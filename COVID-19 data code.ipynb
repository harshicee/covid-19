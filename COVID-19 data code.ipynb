{
 "cells": [
  {
   "cell_type": "code",
   "execution_count": null,
   "metadata": {},
   "outputs": [],
   "source": [
    "pip install pandas matplotlib seaborn\n",
    "\n",
    "import pandas as pd\n",
    "import matplotlib.pyplot as plt\n",
    "import seaborn as sns\n",
    "\n",
    "# Read the COVID-19 data (assuming it's in a CSV format)\n",
    "data = pd.read_csv('covid_data.csv')  # Replace 'covid_data.csv' with your dataset file\n",
    "\n",
    "# Assuming the dataset has columns like 'Date', 'Confirmed', 'Deaths', 'Recovered'\n",
    "# You may need to adjust column names according to your dataset\n",
    "# Convert 'Date' column to datetime format\n",
    "data['Date'] = pd.to_datetime(data['Date'])\n",
    "\n",
    "# Plotting confirmed cases over time\n",
    "plt.figure(figsize=(10, 6))\n",
    "sns.lineplot(x='Date', y='Confirmed', data=data)\n",
    "plt.title('COVID-19 Confirmed Cases Over Time')\n",
    "plt.xlabel('Date')\n",
    "plt.ylabel('Confirmed Cases')\n",
    "plt.xticks(rotation=45)\n",
    "plt.tight_layout()\n",
    "plt.show()\n",
    "\n",
    "# Plotting deaths and recovered cases over time\n",
    "plt.figure(figsize=(10, 6))\n",
    "sns.lineplot(x='Date', y='Deaths', data=data, label='Deaths')\n",
    "sns.lineplot(x='Date', y='Recovered', data=data, label='Recovered')\n",
    "plt.title('COVID-19 Deaths and Recovered Cases Over Time')\n",
    "plt.xlabel('Date')\n",
    "plt.ylabel('Cases')\n",
    "plt.legend()\n",
    "plt.xticks(rotation=45)\n",
    "plt.tight_layout()\n",
    "plt.show()\n"
   ]
  }
 ],
 "metadata": {
  "language_info": {
   "name": "python"
  }
 },
 "nbformat": 4,
 "nbformat_minor": 2
}
